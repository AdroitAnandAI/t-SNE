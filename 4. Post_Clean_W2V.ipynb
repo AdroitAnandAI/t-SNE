{
 "cells": [
  {
   "cell_type": "markdown",
   "metadata": {},
   "source": [
    "# AAI Course: TSNE Visualization (Part IV)"
   ]
  },
  {
   "cell_type": "markdown",
   "metadata": {},
   "source": [
    "## Word2Vec & t-SNE\n",
    "\n",
    "#### Data Source: \n",
    "**The preprocessing step has produced final.sqlite file after doing the data preparation & clearning.** The review text is now devoid of punctuations, HTML markups and stop words.\n",
    "\n",
    "#### Objective:\n",
    "**To plot t-SNE plot after doing Word2Vec.** The aim is to check whether there is a separation between data points.<br><br>"
   ]
  },
  {
   "cell_type": "markdown",
   "metadata": {},
   "source": [
    "## Preprocessed Data Loading"
   ]
  },
  {
   "cell_type": "code",
   "execution_count": 48,
   "metadata": {},
   "outputs": [
    {
     "name": "stdout",
     "output_type": "stream",
     "text": [
      "    index      Id   ProductId          UserId            ProfileName  \\\n",
      "0  138706  150524  0006641040   ACITT7DI6IDDL        shari zychinski   \n",
      "1  138688  150506  0006641040  A2IW4PEEKO2R0U                  Tracy   \n",
      "2  138689  150507  0006641040  A1S4A3IQ2MU7V4  sally sue \"sally sue\"   \n",
      "\n",
      "   HelpfulnessNumerator  HelpfulnessDenominator     Score        Time  \\\n",
      "0                     0                       0  positive   939340800   \n",
      "1                     1                       1  positive  1194739200   \n",
      "2                     1                       1  positive  1191456000   \n",
      "\n",
      "                                      Summary  \\\n",
      "0                   EVERY book is educational   \n",
      "1  Love the book, miss the hard cover version   \n",
      "2               chicken soup with rice months   \n",
      "\n",
      "                                                Text  \\\n",
      "0  this witty little book makes my son laugh at l...   \n",
      "1  I grew up reading these Sendak books, and watc...   \n",
      "2  This is a fun way for children to learn their ...   \n",
      "\n",
      "                                         CleanedText  \n",
      "0  b'witti littl book make son laugh loud recit c...  \n",
      "1  b'grew read sendak book watch realli rosi movi...  \n",
      "2  b'fun way children learn month year learn poem...  \n"
     ]
    }
   ],
   "source": [
    "                                                                                                                                                                                                                                                                                                                                                                                                                                                                                                                                                                                                                                                                                                                                                                                                            import sqlite3\n",
    "import pdb\n",
    "import re\n",
    "import pandas as pd\n",
    "import numpy as np\n",
    "import nltk\n",
    "import string\n",
    "import matplotlib.pyplot as plt\n",
    "import seaborn as sns\n",
    "from sklearn.feature_extraction.text import TfidfTransformer\n",
    "from sklearn.feature_extraction.text import TfidfVectorizer\n",
    "\n",
    "from sklearn.feature_extraction.text import CountVectorizer\n",
    "from sklearn.metrics import confusion_matrix\n",
    "from sklearn import metrics\n",
    "from sklearn.metrics import roc_curve, auc\n",
    "from nltk.stem.porter import PorterStemmer\n",
    "\n",
    "\n",
    "# using the SQLite Table to read data.\n",
    "con = sqlite3.connect('./final.sqlite') \n",
    "\n",
    "#filtering only positive and negative reviews i.e. \n",
    "# not taking into consideration those reviews with Score=3\n",
    "final = pd.read_sql_query(\"\"\"\n",
    "SELECT *\n",
    "FROM Reviews\n",
    "\"\"\", con) \n",
    "\n",
    "print(final.head(3))\n",
    "#pdb.set_trace()"
   ]
  },
  {
   "cell_type": "markdown",
   "metadata": {},
   "source": [
    "## Word2Vec & Average W2V\n",
    "\n",
    "We need to train our own Word2Vec model using our own text corpus. Word2Vec outputs **a dense matrix with limited number of features**. Thus, there is no need to use any other dimensionality reduction method like PCA or TruncatedSVD.\n",
    "\n",
    "Average W2V is done to take the average w2v vector of all the words containing the review."
   ]
  },
  {
   "cell_type": "code",
   "execution_count": 49,
   "metadata": {},
   "outputs": [],
   "source": [
    "# Train your own Word2Vec model using your own text corpus\n",
    "import gensim\n",
    "import re\n",
    "\n",
    "#function to clean the word of any html-tags\n",
    "def cleanhtml(sentence): \n",
    "    cleanr = re.compile('<.*?>')\n",
    "    cleantext = re.sub(cleanr, ' ', sentence)\n",
    "    return cleantext\n",
    "#function to clean the word of any punctuation or special characters\n",
    "def cleanpunc(sentence): \n",
    "    cleaned = re.sub(r'[?|!|\\'|\"|#]',r'',sentence)\n",
    "    cleaned = re.sub(r'[.|,|)|(|\\|/]',r' ',cleaned)\n",
    "    return  cleaned\n",
    "\n",
    "\n",
    "#select subset of points for fast execution\n",
    "num_points = 50000\n",
    "i=0\n",
    "list_of_sent=[]\n",
    "\n",
    "for sent in final['CleanedText'].head(num_points).values.astype('str'):\n",
    "    filtered_sentence=[]\n",
    "    sent=cleanhtml(sent)\n",
    "    for w in sent.split():\n",
    "        for cleaned_words in cleanpunc(w).split():\n",
    "            if(cleaned_words.isalpha()):    \n",
    "                filtered_sentence.append(cleaned_words.lower())\n",
    "            else:\n",
    "                continue \n",
    "    list_of_sent.append(filtered_sentence)\n",
    "    \n",
    "    \n",
    "w2v_model=gensim.models.Word2Vec(list_of_sent,min_count=5,size=50, workers=4) "
   ]
  },
  {
   "cell_type": "code",
   "execution_count": 65,
   "metadata": {},
   "outputs": [
    {
     "name": "stderr",
     "output_type": "stream",
     "text": [
      "C:\\Anaconda\\lib\\site-packages\\ipykernel_launcher.py:14: RuntimeWarning: invalid value encountered in true_divide\n",
      "  \n"
     ]
    },
    {
     "name": "stdout",
     "output_type": "stream",
     "text": [
      "1000\n",
      "50\n"
     ]
    }
   ],
   "source": [
    "# average Word2Vec\n",
    "# compute average word2vec for each review.\n",
    "\n",
    "# the avg-w2v for each sentence/review is stored in this list\n",
    "sent_vectors = []; \n",
    "for sent in final['CleanedText'].head(\n",
    "        num_points).values.astype('str'): # for each review/sentence\n",
    "    sent_vec = np.zeros(50) # as word vectors are of zero length\n",
    "    cnt_words =0; # num of words with a valid vector in the sentence/review\n",
    "    for word in sent: # for each word in a review/sentence\n",
    "        try:\n",
    "            vec = w2v_model.wv[word]\n",
    "            sent_vec += vec\n",
    "            cnt_words += 1\n",
    "        except:\n",
    "            pass\n",
    "    sent_vec /= cnt_words\n",
    "    sent_vectors.append(sent_vec)\n",
    "    \n",
    "print(len(sent_vectors))\n",
    "print(len(sent_vectors[0]))\n"
   ]
  },
  {
   "cell_type": "markdown",
   "metadata": {},
   "source": [
    "# t-SNE Visualisation\n",
    "\n",
    "The output of Average W2V is fed into t-SNE for visualization."
   ]
  },
  {
   "cell_type": "code",
   "execution_count": 66,
   "metadata": {},
   "outputs": [
    {
     "name": "stdout",
     "output_type": "stream",
     "text": [
      "[t-SNE] Computing 181 nearest neighbors...\n",
      "[t-SNE] Indexed 999 samples in 0.000s...\n",
      "[t-SNE] Computed neighbors for 999 samples in 0.220s...\n",
      "[t-SNE] Computed conditional probabilities for sample 999 / 999\n",
      "[t-SNE] Mean sigma: 0.000000\n",
      "[t-SNE] Computed conditional probabilities in 0.510s\n",
      "[t-SNE] Iteration 50: error = 77.5486526, gradient norm = 0.4064248 (50 iterations in 4.561s)\n",
      "[t-SNE] Iteration 100: error = 77.4350510, gradient norm = 0.3963271 (50 iterations in 4.410s)\n",
      "[t-SNE] Iteration 150: error = 77.9087906, gradient norm = 0.4016456 (50 iterations in 4.330s)\n",
      "[t-SNE] Iteration 200: error = 78.3412933, gradient norm = 0.4290701 (50 iterations in 4.350s)\n",
      "[t-SNE] Iteration 250: error = 79.5749588, gradient norm = 0.4045194 (50 iterations in 4.381s)\n",
      "[t-SNE] KL divergence after 250 iterations with early exaggeration: 79.574959\n",
      "[t-SNE] Iteration 300: error = 1.1543367, gradient norm = 0.0038270 (50 iterations in 4.602s)\n",
      "[t-SNE] Iteration 350: error = 0.9539952, gradient norm = 0.0002615 (50 iterations in 4.252s)\n",
      "[t-SNE] Iteration 400: error = 0.9534261, gradient norm = 0.0001691 (50 iterations in 4.153s)\n",
      "[t-SNE] Iteration 450: error = 0.9536771, gradient norm = 0.0001692 (50 iterations in 4.101s)\n",
      "[t-SNE] Iteration 500: error = 0.9522327, gradient norm = 0.0001342 (50 iterations in 3.792s)\n",
      "[t-SNE] Iteration 550: error = 0.9520541, gradient norm = 0.0001487 (50 iterations in 4.011s)\n",
      "[t-SNE] Iteration 600: error = 0.9504870, gradient norm = 0.0001462 (50 iterations in 4.012s)\n",
      "[t-SNE] Iteration 650: error = 0.9522184, gradient norm = 0.0001902 (50 iterations in 3.871s)\n",
      "[t-SNE] Iteration 700: error = 0.9525049, gradient norm = 0.0002289 (50 iterations in 3.911s)\n",
      "[t-SNE] Iteration 750: error = 0.9543926, gradient norm = 0.0001779 (50 iterations in 3.891s)\n",
      "[t-SNE] Iteration 800: error = 0.9545481, gradient norm = 0.0001997 (50 iterations in 3.880s)\n",
      "[t-SNE] Iteration 850: error = 0.9335555, gradient norm = 0.0004245 (50 iterations in 4.023s)\n",
      "[t-SNE] Iteration 900: error = 0.9515929, gradient norm = 0.0001630 (50 iterations in 3.880s)\n",
      "[t-SNE] Iteration 950: error = 0.9446293, gradient norm = 0.0002313 (50 iterations in 3.706s)\n",
      "[t-SNE] Iteration 1000: error = 0.9539614, gradient norm = 0.0001853 (50 iterations in 3.830s)\n",
      "[t-SNE] Error after 1000 iterations: 0.953961\n"
     ]
    }
   ],
   "source": [
    "# TSNE: perp = 60\n",
    "\n",
    "from sklearn.manifold import TSNE\n",
    "from sklearn import preprocessing\n",
    "\n",
    "#from MulticoreTSNE import MulticoreTSNE as TSNE\n",
    "\n",
    "#tsne = TSNE(n_jobs=1)#, n_components=2, \n",
    "#    random_state=0, perplexity = 100, n_iter = 1000)\n",
    "#tsne_data = tsne.fit_transform(data_1000)\n",
    "\n",
    "# standardized_sent_vec = preprocessing.scale(\n",
    "#    np.nan_to_num(sent_vectors[1:num_points]))\n",
    "\n",
    "model = TSNE(n_components=2, verbose=2, \n",
    "             random_state=0, perplexity = 60, n_iter = 1000)\n",
    "# configuring the parameteres\n",
    "# the number of components = 2\n",
    "# default perplexity = 30\n",
    "# default learning rate = 200\n",
    "# default Maximum number of iterations for the optimization = 1000\n",
    "\n",
    "tsne_data = model.fit_transform(np.nan_to_num(sent_vectors[1:num_points]))\n"
   ]
  },
  {
   "cell_type": "code",
   "execution_count": 67,
   "metadata": {},
   "outputs": [
    {
     "data": {
      "image/png": "[encoded data removed]",
      "text/plain": [
       "<matplotlib.figure.Figure at 0x45016ac8>"
      ]
     },
     "metadata": {},
     "output_type": "display_data"
    }
   ],
   "source": [
    "#To plot the t-sne data\n",
    "\n",
    "labels_1000 = final['Score'].head(num_points-1)\n",
    "\n",
    "# creating a new data frame which help us in ploting the result data\n",
    "tsne_data_wlabel = np.vstack((tsne_data.T, labels_1000)).T\n",
    "tsne_df = pd.DataFrame(data=tsne_data_wlabel, \n",
    "                       columns=[\"Dim_1\", \"Dim_2\", \"label\"])\n",
    "\n",
    "# Ploting the result of tsne\n",
    "sns.FacetGrid(tsne_df, hue=\"label\", size=6).map(\n",
    "    plt.scatter, 'Dim_1', 'Dim_2').add_legend()\n",
    "plt.show()"
   ]
  },
  {
   "cell_type": "markdown",
   "metadata": {},
   "source": [
    "## t-SNE Plot: Second Run with different Perp Value"
   ]
  },
  {
   "cell_type": "code",
   "execution_count": 69,
   "metadata": {},
   "outputs": [
    {
     "name": "stdout",
     "output_type": "stream",
     "text": [
      "[t-SNE] Computing 226 nearest neighbors...\n",
      "[t-SNE] Indexed 999 samples in 0.010s...\n",
      "[t-SNE] Computed neighbors for 999 samples in 0.230s...\n",
      "[t-SNE] Computed conditional probabilities for sample 999 / 999\n",
      "[t-SNE] Mean sigma: 0.000000\n",
      "[t-SNE] Computed conditional probabilities in 0.650s\n",
      "[t-SNE] Iteration 50: error = 66.7849808, gradient norm = 0.4418731 (50 iterations in 5.251s)\n",
      "[t-SNE] Iteration 100: error = 69.2846909, gradient norm = 0.4298845 (50 iterations in 5.383s)\n",
      "[t-SNE] Iteration 150: error = 68.5817337, gradient norm = 0.4281791 (50 iterations in 5.114s)\n",
      "[t-SNE] Iteration 200: error = 67.1570053, gradient norm = 0.4373719 (50 iterations in 5.223s)\n",
      "[t-SNE] Iteration 250: error = 68.0285416, gradient norm = 0.4193419 (50 iterations in 5.291s)\n",
      "[t-SNE] KL divergence after 250 iterations with early exaggeration: 68.028542\n",
      "[t-SNE] Iteration 300: error = 0.5755547, gradient norm = 0.0016443 (50 iterations in 4.673s)\n",
      "[t-SNE] Iteration 350: error = 0.4025976, gradient norm = 0.0002622 (50 iterations in 4.252s)\n",
      "[t-SNE] Iteration 400: error = 0.4017146, gradient norm = 0.0000210 (50 iterations in 3.944s)\n",
      "[t-SNE] Iteration 450: error = 0.4025030, gradient norm = 0.0000242 (50 iterations in 3.974s)\n",
      "[t-SNE] Iteration 500: error = 0.4023070, gradient norm = 0.0000135 (50 iterations in 4.092s)\n",
      "[t-SNE] Iteration 550: error = 0.4016742, gradient norm = 0.0000191 (50 iterations in 4.131s)\n",
      "[t-SNE] Iteration 600: error = 0.4019208, gradient norm = 0.0000040 (50 iterations in 4.111s)\n",
      "[t-SNE] Iteration 650: error = 0.4019405, gradient norm = 0.0000457 (50 iterations in 4.282s)\n",
      "[t-SNE] Iteration 700: error = 0.4020615, gradient norm = 0.0000138 (50 iterations in 4.080s)\n",
      "[t-SNE] Iteration 750: error = 0.4018140, gradient norm = 0.0000106 (50 iterations in 4.080s)\n",
      "[t-SNE] Iteration 800: error = 0.4017358, gradient norm = 0.0000057 (50 iterations in 4.292s)\n",
      "[t-SNE] Iteration 850: error = 0.4017598, gradient norm = 0.0000255 (50 iterations in 4.181s)\n",
      "[t-SNE] Iteration 900: error = 0.4014850, gradient norm = 0.0000655 (50 iterations in 4.270s)\n",
      "[t-SNE] Iteration 950: error = 0.4016925, gradient norm = 0.0000168 (50 iterations in 4.222s)\n",
      "[t-SNE] Iteration 1000: error = 0.4019395, gradient norm = 0.0000039 (50 iterations in 3.985s)\n",
      "[t-SNE] Error after 1000 iterations: 0.401940\n"
     ]
    },
    {
     "data": {
      "image/png": "[encoded data removed]",
      "text/plain": [
       "<matplotlib.figure.Figure at 0x13f51d30>"
      ]
     },
     "metadata": {},
     "output_type": "display_data"
    }
   ],
   "source": [
    "\n",
    "#To run t-sne with diff perp value = 75\n",
    "\n",
    "model = TSNE(n_components=2, verbose=2, \n",
    "             random_state=0, perplexity = 75, n_iter = 1000)\n",
    "\n",
    "tsne_data = model.fit_transform(\n",
    "    np.nan_to_num(sent_vectors[1:num_points]))\n",
    "\n",
    "# creating a new data frame which help us in ploting the result data\n",
    "tsne_data_wlabel = np.vstack((tsne_data.T, labels_1000)).T\n",
    "tsne_df = pd.DataFrame(\n",
    "    data=tsne_data_wlabel, columns=[\"Dim_1\", \"Dim_2\", \"label\"])\n",
    "\n",
    "# Ploting the result of tsne\n",
    "sns.FacetGrid(tsne_df, hue=\"label\", size=6).map(\n",
    "    plt.scatter, 'Dim_1', 'Dim_2').add_legend()\n",
    "plt.show()"
   ]
  },
  {
   "cell_type": "markdown",
   "metadata": {},
   "source": [
    "# Observations\n",
    "\n",
    "1. t-SNE is done with different perplexity and step values. **We can find some structure of the data, but separation is stll a distant dream.**\n",
    "2. The data points are circularly distributed & overlapping when perplexity < 70 and when perplexity > 70, then many positive points are clubbed as one single point.\n",
    "3. We will experiment with TF-IDF weighted W2V as it is known to perform better."
   ]
  },
  {
   "cell_type": "code",
   "execution_count": null,
   "metadata": {},
   "outputs": [],
   "source": []
  }
 ],
 "metadata": {
  "kernelspec": {
   "display_name": "Python 3",
   "language": "python",
   "name": "python3"
  },
  "language_info": {
   "codemirror_mode": {
    "name": "ipython",
    "version": 3
   },
   "file_extension": ".py",
   "mimetype": "text/x-python",
   "name": "python",
   "nbconvert_exporter": "python",
   "pygments_lexer": "ipython3",
   "version": "3.6.4"
  }
 },
 "nbformat": 4,
 "nbformat_minor": 2
}
